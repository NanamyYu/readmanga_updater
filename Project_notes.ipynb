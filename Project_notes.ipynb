{
  "nbformat": 4,
  "nbformat_minor": 0,
  "metadata": {
    "colab": {
      "name": "Project_test.ipynb",
      "provenance": [],
      "collapsed_sections": []
    },
    "kernelspec": {
      "display_name": "Python 3",
      "name": "python3"
    },
    "language_info": {
      "name": "python"
    }
  },
  "cells": [
    {
      "cell_type": "code",
      "metadata": {
        "colab": {
          "base_uri": "https://localhost:8080/"
        },
        "id": "C02UZ7o6IHaP",
        "outputId": "4e700f43-7334-4aa0-d0c4-d1438e833070"
      },
      "source": [
        "!pip install pyTelegramBotAPI==3.8.1"
      ],
      "execution_count": 2,
      "outputs": [
        {
          "output_type": "stream",
          "text": [
            "Requirement already satisfied: pyTelegramBotAPI==3.8.1 in /usr/local/lib/python3.7/dist-packages (3.8.1)\n",
            "Requirement already satisfied: requests in /usr/local/lib/python3.7/dist-packages (from pyTelegramBotAPI==3.8.1) (2.23.0)\n",
            "Requirement already satisfied: idna<3,>=2.5 in /usr/local/lib/python3.7/dist-packages (from requests->pyTelegramBotAPI==3.8.1) (2.10)\n",
            "Requirement already satisfied: chardet<4,>=3.0.2 in /usr/local/lib/python3.7/dist-packages (from requests->pyTelegramBotAPI==3.8.1) (3.0.4)\n",
            "Requirement already satisfied: certifi>=2017.4.17 in /usr/local/lib/python3.7/dist-packages (from requests->pyTelegramBotAPI==3.8.1) (2021.5.30)\n",
            "Requirement already satisfied: urllib3!=1.25.0,!=1.25.1,<1.26,>=1.21.1 in /usr/local/lib/python3.7/dist-packages (from requests->pyTelegramBotAPI==3.8.1) (1.24.3)\n"
          ],
          "name": "stdout"
        }
      ]
    },
    {
      "cell_type": "code",
      "metadata": {
        "id": "1J-oChVLqvYo"
      },
      "source": [
        "import requests\n",
        "from bs4 import BeautifulSoup\n",
        "\n",
        "import telebot"
      ],
      "execution_count": 3,
      "outputs": []
    },
    {
      "cell_type": "code",
      "metadata": {
        "id": "g-g6KytbIszZ"
      },
      "source": [
        "manga_list = {}"
      ],
      "execution_count": 4,
      "outputs": []
    },
    {
      "cell_type": "markdown",
      "metadata": {
        "id": "gtQe7zT6i-6I"
      },
      "source": [
        "Создаем словарь, в котором для каждой манги храним ее ссылку и последнюю главу."
      ]
    },
    {
      "cell_type": "code",
      "metadata": {
        "id": "Xv5csQ6UrSNV"
      },
      "source": [
        "url = 'https://www.readmanga.live/zvezdnoe_ditia'\n",
        "readmanga_html = requests.get(url)"
      ],
      "execution_count": 5,
      "outputs": []
    },
    {
      "cell_type": "code",
      "metadata": {
        "id": "GGEQjRqCsgie"
      },
      "source": [
        "soup = BeautifulSoup(readmanga_html.content, 'html.parser')"
      ],
      "execution_count": 6,
      "outputs": []
    },
    {
      "cell_type": "markdown",
      "metadata": {
        "id": "FcShGL9PjI9i"
      },
      "source": [
        "В html-коде страницы ищем места, в которых записаны данные о последней главе и о названии манги."
      ]
    },
    {
      "cell_type": "code",
      "metadata": {
        "id": "zD01FUZ6Wl0y"
      },
      "source": [
        "chapter_list = soup.find_all('td', ' ')\n",
        "if chapter_list != []:\n",
        "  last_chapter = soup.find_all('td', ' ')[0].contents[1].contents[0].strip()\n",
        "else:\n",
        "  last_chapter = 'Глав нет'"
      ],
      "execution_count": 7,
      "outputs": []
    },
    {
      "cell_type": "code",
      "metadata": {
        "id": "ZNiqRgPbgb3-"
      },
      "source": [
        "manga_name = soup.find_all('span', 'name')[0].contents[0]"
      ],
      "execution_count": 8,
      "outputs": []
    },
    {
      "cell_type": "markdown",
      "metadata": {
        "id": "xz9em3RkjUFA"
      },
      "source": [
        "Добавляем мангу в словарь."
      ]
    },
    {
      "cell_type": "code",
      "metadata": {
        "colab": {
          "base_uri": "https://localhost:8080/"
        },
        "id": "_xtF33SkgzVJ",
        "outputId": "10075928-184a-4639-94cb-5275ed765807"
      },
      "source": [
        "manga_list[manga_name] = [url, last_chapter]\n",
        "manga_list"
      ],
      "execution_count": 9,
      "outputs": [
        {
          "output_type": "execute_result",
          "data": {
            "text/plain": [
              "{'Звёздное дитя': ['https://www.readmanga.live/zvezdnoe_ditia',\n",
              "  '5 - 49 Переделка']}"
            ]
          },
          "metadata": {
            "tags": []
          },
          "execution_count": 9
        }
      ]
    },
    {
      "cell_type": "markdown",
      "metadata": {
        "id": "eejQ2zLXY97-"
      },
      "source": [
        "**Хочу получить**: бот, умеющий по списку манги выдавать, вышли ли новые обновы и уведомлять о них.\n",
        "\n",
        "**Бот**: \\\\\n",
        "`/new` -- добавляет новую мангу по запросу (принимаются **только** ссылки с ридманги) \\\\\n",
        "`/check` -- проверяет по всему списку ссылок обновления, выводит все, которые изменились \\\\\n",
        "`/list` -- выводит список названий отслеживаемых манг для данного пользователя \\\\\n",
        "`/delete` -- позволяет удалить мангу из отслеживаемого списка \n",
        "\n",
        "Хранение манги происходит с помощью словаря списков по модели \\\\\n",
        "`{название манги: [ссылка на мангу, строка-статус последней главы]}`\n",
        "\n",
        "При `/new` в код поступает ссылка, из которой вытаскивается название манги и строка-статус последней главы, после чего для словаря создается новый элемент с индексом -- названием манги, и с элементами -- ссылкой и статусом.\n",
        "\n",
        "При `/check` код обходит словарь и проверяет по ссылкам, поменялся ли статус последней главы. Если поменялся, тайтл выводится. Если ничего не обновилось, то бот выводит \"Обновлений нет\".\n",
        "\n",
        "При `/list` бот выводит список манги.\n",
        "\n",
        "При `/delete` бот выводит список индексов и спрашивает, какой из них вы хотели бы удалить, после чего тайтл удаляется из словаря.\n"
      ]
    },
    {
      "cell_type": "code",
      "metadata": {
        "id": "JAUOstpAHr33"
      },
      "source": [
        "TOKEN = '<вставьте токен своего тг-бота сюда>'\n",
        "read_bot = telebot.TeleBot(TOKEN)\n",
        "manga_check = {}\n",
        "\n",
        "@read_bot.message_handler(commands=['start'])  \n",
        "def start(message):\n",
        "  if manga_check.get(message.chat.id, 42) == 42:\n",
        "    manga_check[message.chat.id] = {}\n",
        "  read_bot.send_message(message.from_user.id, \"Привет! Я - бот, который поможет тебе следить за обновлениями манги. Для того, чтобы узнать команды, напиши /help.\")\n",
        "\n",
        "@read_bot.message_handler(commands=['help'])\n",
        "def help(message):\n",
        "  if manga_check.get(message.chat.id, 42) == 42:\n",
        "    manga_check[message.chat.id] = {}\n",
        "  read_bot.send_message(message.from_user.id, \"_Список команд:_ \\n /new - добавляет новую мангу по запросу. Формат: `/new https://readmanga.live/<manga_id>` (принимаются *только* ссылки с ридманги) \\n /check - проверяет по всему списку ссылок обновления, выводит все, которые изменились \\n /list - выводит список названий отслеживаемых манг для данного пользователя \\n /delete - позволяет удалить мангу из отслеживаемого списка. Формат: `/delete <название манги>`\", parse_mode='Markdown')\n",
        "\n",
        "@read_bot.message_handler(commands=['new'])\n",
        "def new(message):\n",
        "  if manga_check.get(message.chat.id, 42) == 42:\n",
        "    manga_check[message.chat.id] = {}\n",
        "  url = message.text[5:]\n",
        "  if url == '' or (url.find('https://www.readmanga.live') == -1 and url.find('https://readmanga.live') == -1) or url.count('/') != 3:\n",
        "    read_bot.send_message(message.from_user.id, \"Неправильный формат! Пожалуйста, введи `/new https://readmanga.live/<manga_id>`\", parse_mode='Markdown')\n",
        "    return\n",
        "  readmanga_html = requests.get(url)\n",
        "  soup = BeautifulSoup(readmanga_html.content, 'html.parser')\n",
        "  manga_name = soup.find_all('span', 'name')\n",
        "  if manga_name != []:\n",
        "    manga_name = soup.find_all('span', 'name')[0].contents[0]\n",
        "  else:\n",
        "    read_bot.send_message(message.from_user.id, \"Такой манги нет!\")\n",
        "    return\n",
        "  chapter_list = soup.find_all('td', ' ')\n",
        "  if chapter_list != []:\n",
        "    last_chapter = soup.find_all('td', ' ')[0].contents[1].contents[0].strip()\n",
        "  else:\n",
        "    last_chapter = 'Глав нет'\n",
        "  manga_check[message.chat.id][manga_name] = [url, last_chapter]\n",
        "  read_bot.send_message(message.from_user.id, \"Готово :3\")\n",
        "\n",
        "  \n",
        "@read_bot.message_handler(commands=['list'])\n",
        "def view_list(message):\n",
        "  if manga_check.get(message.chat.id, 42) == 42:\n",
        "    manga_check[message.chat.id] = {}\n",
        "  index = 1\n",
        "  all_manga = \"\"\n",
        "  for manga in manga_check[message.chat.id]:\n",
        "    manga_url = '[{text}]({link})'.format(link=manga_check[message.chat.id][manga][0], text=manga)\n",
        "    all_manga += str(index)+'. '+manga_url+' '+manga_check[message.chat.id][manga][1]+'\\n'\n",
        "    index += 1\n",
        "  if all_manga == \"\":\n",
        "    read_bot.send_message(message.from_user.id, \"У тебя пустой список :(\")\n",
        "    return\n",
        "  read_bot.send_message(message.from_user.id, all_manga, parse_mode='Markdown')\n",
        "\n",
        "@read_bot.message_handler(commands=['check'])\n",
        "def check(message):\n",
        "  if manga_check.get(message.chat.id, 42) == 42:\n",
        "    manga_check[message.chat.id] = {}\n",
        "  all_updates = \"_Обновления:_\\n\"\n",
        "  for manga in manga_check[message.chat.id]:\n",
        "    manga_url = '[{text}]({link})'.format(link=manga_check[message.chat.id][manga][0], text=manga)\n",
        "    soup = BeautifulSoup(requests.get(manga_check[message.chat.id][manga][0]).content, 'html.parser')\n",
        "    chapter_list = soup.find_all('td', ' ')\n",
        "    if chapter_list != []:\n",
        "      last_chapter = soup.find_all('td', ' ')[0].contents[1].contents[0].strip()\n",
        "    else:\n",
        "      last_chapter = 'Глав нет'\n",
        "    if last_chapter != manga_check[message.chat.id][manga][1]:\n",
        "      manga_check[message.chat.id][manga][1] = last_chapter\n",
        "      all_updates += manga_url+': '+last_chapter+'\\n'\n",
        "  if all_updates == \"_Обновления:_\\n\":\n",
        "    all_updates = \"Нет обнов :(\"\n",
        "  read_bot.send_message(message.from_user.id, all_updates, parse_mode='Markdown')\n",
        "\n",
        "@read_bot.message_handler(commands=['delete'])\n",
        "def delete(message):\n",
        "  if manga_check.get(message.chat.id, 42) == 42:\n",
        "    manga_check[message.chat.id] = {}\n",
        "  manga_name = message.text[8:]\n",
        "  if manga_name == '':\n",
        "    read_bot.send_message(message.from_user.id, \"Неправильный формат! Пожалуйста, введи `/delete <название манги>` (название манги можно проверить в \\list)\", parse_mode='Markdown')\n",
        "    return\n",
        "  if manga_check[message.chat.id].pop(manga_name, 42) == 42:\n",
        "    read_bot.send_message(message.from_user.id, \"Такой манги в твоем списке нет :0\")\n",
        "    return\n",
        "  read_bot.send_message(message.from_user.id, 'Готово!')\n",
        "\n",
        "@read_bot.message_handler(content_types=['text'])\n",
        "def text(message):\n",
        "  if manga_check.get(message.chat.id, 42) == 42:\n",
        "    manga_check[message.chat.id] = {}\n",
        "  read_bot.send_message(message.from_user.id, \"Привет! Я - бот, который поможет тебе следить за обновлениями манги. Для того, чтобы узнать команды, напиши /help.\")\n",
        "\n",
        "\n",
        "read_bot.polling(none_stop=True)"
      ],
      "execution_count": null,
      "outputs": []
    }
  ]
}
